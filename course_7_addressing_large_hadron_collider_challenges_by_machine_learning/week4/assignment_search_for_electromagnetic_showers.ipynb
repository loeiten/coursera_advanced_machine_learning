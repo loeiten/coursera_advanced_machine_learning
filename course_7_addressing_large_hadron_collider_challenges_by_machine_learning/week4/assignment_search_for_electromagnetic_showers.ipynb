{
 "cells": [
  {
   "cell_type": "code",
   "execution_count": null,
   "metadata": {
    "ExecuteTime": {
     "end_time": "2018-05-25T10:37:39.932736Z",
     "start_time": "2018-05-25T10:37:39.920767Z"
    }
   },
   "outputs": [],
   "source": [
    "# Sample solution is based on nontebooks by Artem Borzov\n",
    "\n",
    "import numpy as np\n",
    "import pandas as pd\n",
    "import seaborn as sns\n",
    "import scipy\n",
    "import tables as tb\n",
    "from mpl_toolkits.mplot3d import Axes3D\n",
    "from tqdm import tqdm\n",
    "import xgboost as xg\n",
    "from xgboost import XGBClassifier\n",
    "from sklearn.model_selection import StratifiedKFold\n",
    "from sklearn.model_selection import GridSearchCV\n",
    "from sklearn.neighbors import BallTree\n",
    "from sklearn.neighbors import KDTree\n",
    "from sklearn.neighbors import DistanceMetric\n",
    "import glob\n",
    "\n",
    "%pylab inline"
   ]
  },
  {
   "cell_type": "markdown",
   "metadata": {},
   "source": [
    "# Load Datasets"
   ]
  },
  {
   "cell_type": "code",
   "execution_count": null,
   "metadata": {
    "ExecuteTime": {
     "end_time": "2018-05-25T12:31:54.135415Z",
     "start_time": "2018-05-25T12:31:52.494634Z"
    }
   },
   "outputs": [],
   "source": [
    "train = pd.read_hdf('data/open30.h5') # pick just a single brick\n",
    "test = pd.read_hdf('data/test.h5')"
   ]
  },
  {
   "cell_type": "code",
   "execution_count": null,
   "metadata": {
    "ExecuteTime": {
     "end_time": "2018-05-25T12:44:02.126817Z",
     "start_time": "2018-05-25T12:44:02.033820Z"
    }
   },
   "outputs": [],
   "source": [
    "test = test.reset_index(drop=True)"
   ]
  },
  {
   "cell_type": "code",
   "execution_count": null,
   "metadata": {
    "ExecuteTime": {
     "end_time": "2018-05-25T12:34:50.724235Z",
     "start_time": "2018-05-25T12:34:50.714263Z"
    }
   },
   "outputs": [],
   "source": [
    "test.head()"
   ]
  },
  {
   "cell_type": "code",
   "execution_count": null,
   "metadata": {
    "ExecuteTime": {
     "end_time": "2018-05-25T10:37:16.362812Z",
     "start_time": "2018-05-25T10:37:16.348850Z"
    }
   },
   "outputs": [],
   "source": [
    "train.head()"
   ]
  },
  {
   "cell_type": "markdown",
   "metadata": {},
   "source": [
    "Let's see how showers look like inside one data_ind"
   ]
  },
  {
   "cell_type": "code",
   "execution_count": null,
   "metadata": {},
   "outputs": [],
   "source": [
    "CMAP = sns.diverging_palette(220, 20, s=99, as_cmap=True, n=2500)\n",
    "\n",
    "def plot3D(X, target, elev=0, azim=0, title=None, sub=111):\n",
    "    x = X[:, 0]\n",
    "    y = X[:, 1]\n",
    "    z = X[:, 2]\n",
    "    \n",
    "    fig = plt.figure(figsize=(12, 8))\n",
    "    ax = Axes3D(fig)\n",
    "    mappab = ax.scatter(x, y, z, c=target, cmap=CMAP)\n",
    "\n",
    "    if title is not None:\n",
    "        ax.set_title(title)\n",
    "    ax.set_xlabel('Component 1')\n",
    "    ax.set_ylabel('Component 2')\n",
    "    ax.set_zlabel('Component 3')\n",
    "\n",
    "    # This tool allows you to change the point of view\n",
    "    ax.view_init(elev=elev, azim=azim)\n",
    "    fig.colorbar(mappable=mappab, label='Target variable')\n",
    "    plt.show()\n",
    "    \n",
    "feat_XY = ['TX', 'TY', 'X', 'Y']"
   ]
  },
  {
   "cell_type": "code",
   "execution_count": null,
   "metadata": {
    "ExecuteTime": {
     "end_time": "2018-05-25T10:37:16.616701Z",
     "start_time": "2018-05-25T10:37:16.533887Z"
    }
   },
   "outputs": [],
   "source": [
    "first = train.loc[train.data_ind == 21, :]"
   ]
  },
  {
   "cell_type": "code",
   "execution_count": null,
   "metadata": {
    "ExecuteTime": {
     "end_time": "2018-05-25T10:37:17.732404Z",
     "start_time": "2018-05-25T10:37:16.849045Z"
    }
   },
   "outputs": [],
   "source": [
    "plot3D(first.loc[first.signal==1, ['Z', 'X', 'Y']].values,\n",
    "       first.loc[first.signal==1].signal.values, elev=20, azim=60)"
   ]
  },
  {
   "cell_type": "code",
   "execution_count": null,
   "metadata": {
    "ExecuteTime": {
     "end_time": "2018-05-25T10:37:18.791058Z",
     "start_time": "2018-05-25T10:37:17.963126Z"
    }
   },
   "outputs": [],
   "source": [
    "plot3D(first.loc[first.signal==1, ['Z', 'X', 'Y']].values,\n",
    "       first.loc[first.signal==1].signal.values, elev=45, azim=0)"
   ]
  },
  {
   "cell_type": "markdown",
   "metadata": {},
   "source": [
    "## Let's take a look at basetrack distribution along the axis"
   ]
  },
  {
   "cell_type": "code",
   "execution_count": null,
   "metadata": {
    "ExecuteTime": {
     "end_time": "2018-05-25T10:37:19.334235Z",
     "start_time": "2018-05-25T10:37:19.026398Z"
    }
   },
   "outputs": [],
   "source": [
    "axis = 'X'\n",
    "\n",
    "fig = plt.figure(figsize = [20, 10])\n",
    "fig.add_subplot(221)\n",
    "plt.hist(first.loc[first.signal == 1, axis], bins=500, histtype='step')\n",
    "fig.add_subplot(222)\n",
    "plt.hist(first.loc[first.signal == 0, axis], bins=500, histtype='step')\n",
    "fig.add_subplot(223)\n",
    "values_X = plt.hist(first.loc[:, axis], bins=500, histtype='step')\n",
    "plt.show()"
   ]
  },
  {
   "cell_type": "code",
   "execution_count": null,
   "metadata": {
    "ExecuteTime": {
     "end_time": "2018-05-25T10:37:19.956190Z",
     "start_time": "2018-05-25T10:37:19.616481Z"
    }
   },
   "outputs": [],
   "source": [
    "axis = 'Y'\n",
    "\n",
    "fig = plt.figure(figsize = [20, 10])\n",
    "fig.add_subplot(221)\n",
    "plt.hist(first.loc[first.signal == 1, axis], bins=500, histtype='step')\n",
    "fig.add_subplot(222)\n",
    "plt.hist(first.loc[first.signal == 0, axis], bins=500, histtype='step')\n",
    "fig.add_subplot(223)\n",
    "values_X = plt.hist(first.loc[:, axis], bins=500, histtype='step')\n",
    "plt.show()"
   ]
  },
  {
   "cell_type": "code",
   "execution_count": null,
   "metadata": {
    "ExecuteTime": {
     "end_time": "2018-05-25T10:37:20.536537Z",
     "start_time": "2018-05-25T10:37:20.234403Z"
    }
   },
   "outputs": [],
   "source": [
    "axis = 'Z'\n",
    "\n",
    "fig = plt.figure(figsize = [20, 10])\n",
    "fig.add_subplot(221)\n",
    "plt.hist(first.loc[first.signal == 1, axis], bins=500, histtype='step')\n",
    "fig.add_subplot(222)\n",
    "plt.hist(first.loc[first.signal == 0, axis], bins=500, histtype='step')\n",
    "fig.add_subplot(223)\n",
    "values_X = plt.hist(first.loc[:, axis], bins=500, histtype='step')\n",
    "plt.show()"
   ]
  },
  {
   "cell_type": "markdown",
   "metadata": {},
   "source": [
    "# Let's group close tracks from neighbour plates into pairs"
   ]
  },
  {
   "cell_type": "code",
   "execution_count": null,
   "metadata": {
    "ExecuteTime": {
     "end_time": "2018-05-25T10:37:06.811388Z",
     "start_time": "2018-05-25T10:37:06.701683Z"
    }
   },
   "outputs": [],
   "source": [
    "def add_neighbours(df, k, metric='minkowski'):\n",
    "    res = []\n",
    "    \n",
    "    for data_ind in tqdm(np.unique(df.data_ind)):\n",
    "        ind = df.loc[df.data_ind == data_ind].copy()\n",
    "        # As will be noted, 1293 is the distance between slices in Z\n",
    "        ind[['TX', 'TY']] *= 1293\n",
    "        values = np.unique(ind.Z)\n",
    "        \n",
    "        for j in range(1, len(values)):\n",
    "            z, z_next = (ind.loc[ind.Z == values[j-1]].copy(),\n",
    "                         ind.loc[ind.Z == values[j]].copy())\n",
    "            \n",
    "            b_tree = BallTree(z_next[feat_XY], metric=metric)\n",
    "            d, i = b_tree.query(z[feat_XY], k=min(k, len(z_next)))\n",
    "            \n",
    "            for m in range(i.shape[1]):\n",
    "                data = z_next.iloc[i[:, m]]\n",
    "                z_copy = z.copy()\n",
    "                for col in feat_XY + ['Z']:\n",
    "                    z_copy[col + '_pair'] = data[col].values\n",
    "                res.append(z_copy)\n",
    "            \n",
    "        res.append(z_next)\n",
    "        \n",
    "    res = pd.concat(res)\n",
    "    for col in feat_XY + ['Z']:\n",
    "        res['d' + col] = res[col].values - res[col + '_pair'].values\n",
    "    return res\n",
    "\n",
    "def balance_train(df, k):\n",
    "    data = add_neighbours(df, k=k)\n",
    "    noise = data.event_id == -999\n",
    "    signal, not_signal = data.loc[np.logical_not(noise)], data.loc[noise]\n",
    "    noise_part = not_signal.sample(len(signal))\n",
    "    return pd.concat([signal, noise_part]).reset_index(drop=True)"
   ]
  },
  {
   "cell_type": "code",
   "execution_count": null,
   "metadata": {
    "ExecuteTime": {
     "end_time": "2018-05-25T10:41:02.214677Z",
     "start_time": "2018-05-25T10:37:59.060749Z"
    }
   },
   "outputs": [],
   "source": [
    "train = []\n",
    "for file in glob.glob('data/open*.h5')[:5]: # just 5 bricks\n",
    "    train.append(balance_train(pd.read_hdf(file), k=3))\n",
    "train = pd.concat(train)"
   ]
  },
  {
   "cell_type": "code",
   "execution_count": null,
   "metadata": {
    "ExecuteTime": {
     "end_time": "2018-05-25T10:41:02.643702Z",
     "start_time": "2018-05-25T10:41:02.625750Z"
    }
   },
   "outputs": [],
   "source": [
    "train.head()"
   ]
  },
  {
   "cell_type": "markdown",
   "metadata": {},
   "source": [
    "# Building a model"
   ]
  },
  {
   "cell_type": "code",
   "execution_count": null,
   "metadata": {
    "ExecuteTime": {
     "end_time": "2018-05-25T10:41:03.346013Z",
     "start_time": "2018-05-25T10:41:02.938913Z"
    }
   },
   "outputs": [],
   "source": [
    "y_train = train.signal\n",
    "X_train = train.drop(['event_id', 'signal', 'data_ind'], axis=1)"
   ]
  },
  {
   "cell_type": "code",
   "execution_count": null,
   "metadata": {
    "ExecuteTime": {
     "end_time": "2018-05-25T10:43:30.933842Z",
     "start_time": "2018-05-25T10:43:30.923813Z"
    }
   },
   "outputs": [],
   "source": [
    "param_grid = {\n",
    "        'n_estimators':[10, 20], \n",
    "        'max_depth':[15],\n",
    "}\n",
    "\n",
    "class XGBClassifier_tmp(XGBClassifier):\n",
    "    def predict(self, X):\n",
    "        return XGBClassifier.predict_proba(self, X)[:, 1]\n",
    "\n",
    "clf = GridSearchCV(XGBClassifier_tmp(learning_rate=0.05, \n",
    "                                     subsample=0.8,\n",
    "                                     colsample_bytree=0.8,\n",
    "                                     n_jobs=-1), \n",
    "                   param_grid=param_grid, \n",
    "                   n_jobs=-1,\n",
    "                   scoring='roc_auc',\n",
    "                   cv=StratifiedKFold(3,\n",
    "                                      shuffle=True, \n",
    "                                      random_state=0),\n",
    "                   verbose=7)"
   ]
  },
  {
   "cell_type": "code",
   "execution_count": null,
   "metadata": {
    "ExecuteTime": {
     "end_time": "2018-05-25T11:16:11.829817Z",
     "start_time": "2018-05-25T10:43:52.059216Z"
    }
   },
   "outputs": [],
   "source": [
    "clf.fit(X_train, y_train)"
   ]
  },
  {
   "cell_type": "code",
   "execution_count": null,
   "metadata": {
    "ExecuteTime": {
     "end_time": "2018-05-25T12:55:12.882488Z",
     "start_time": "2018-05-25T12:55:12.874512Z"
    }
   },
   "outputs": [],
   "source": [
    "xgb_class = clf.best_estimator_"
   ]
  },
  {
   "cell_type": "markdown",
   "metadata": {},
   "source": [
    "# Prediction"
   ]
  },
  {
   "cell_type": "code",
   "execution_count": null,
   "metadata": {
    "ExecuteTime": {
     "end_time": "2018-05-25T12:45:09.640512Z",
     "start_time": "2018-05-25T12:44:32.284005Z"
    }
   },
   "outputs": [],
   "source": [
    "prepared_test = add_neighbours(test, k=3)\n",
    "X_test = prepared_test.drop(['data_ind'], axis=1)"
   ]
  },
  {
   "cell_type": "code",
   "execution_count": null,
   "metadata": {
    "ExecuteTime": {
     "end_time": "2018-05-25T13:22:37.558756Z",
     "start_time": "2018-05-25T12:56:28.242410Z"
    }
   },
   "outputs": [],
   "source": [
    "xgb_class.fit(X_train, y_train)\n",
    "probas = xgb_class.predict(X_test)"
   ]
  },
  {
   "cell_type": "code",
   "execution_count": null,
   "metadata": {
    "ExecuteTime": {
     "end_time": "2018-05-25T13:22:41.085261Z",
     "start_time": "2018-05-25T13:22:38.250204Z"
    }
   },
   "outputs": [],
   "source": [
    "df = pd.DataFrame({'id': prepared_test.index, 'signal': probas}).groupby('id')\n",
    "agg = df.aggregate(('mean')).loc[:, ['signal']]"
   ]
  },
  {
   "cell_type": "code",
   "execution_count": null,
   "metadata": {
    "ExecuteTime": {
     "end_time": "2018-05-25T13:22:41.708124Z",
     "start_time": "2018-05-25T13:22:41.703137Z"
    }
   },
   "outputs": [],
   "source": [
    "agg.shape"
   ]
  },
  {
   "cell_type": "code",
   "execution_count": null,
   "metadata": {
    "ExecuteTime": {
     "end_time": "2018-05-25T13:22:42.335273Z",
     "start_time": "2018-05-25T13:22:42.327295Z"
    }
   },
   "outputs": [],
   "source": [
    "agg.head()"
   ]
  },
  {
   "cell_type": "code",
   "execution_count": null,
   "metadata": {
    "ExecuteTime": {
     "end_time": "2018-05-25T13:23:04.590432Z",
     "start_time": "2018-05-25T13:22:42.997011Z"
    }
   },
   "outputs": [],
   "source": [
    "agg.to_csv('submission.csv.gz', index=True, compression='gzip')"
   ]
  }
 ],
 "metadata": {
  "hide_input": false,
  "kernelspec": {
   "display_name": "Python 3",
   "language": "python",
   "name": "python3"
  },
  "language_info": {
   "codemirror_mode": {
    "name": "ipython",
    "version": 3
   },
   "file_extension": ".py",
   "mimetype": "text/x-python",
   "name": "python",
   "nbconvert_exporter": "python",
   "pygments_lexer": "ipython3",
   "version": "3.7.3"
  },
  "nbTranslate": {
   "displayLangs": [
    "*"
   ],
   "hotkey": "alt-t",
   "langInMainMenu": true,
   "sourceLang": "en",
   "targetLang": "fr",
   "useGoogleTranslate": true
  },
  "toc": {
   "base_numbering": 1,
   "nav_menu": {},
   "number_sections": true,
   "sideBar": true,
   "skip_h1_title": false,
   "title_cell": "Table of Contents",
   "title_sidebar": "Contents",
   "toc_cell": false,
   "toc_position": {},
   "toc_section_display": "block",
   "toc_window_display": false
  },
  "varInspector": {
   "cols": {
    "lenName": 16,
    "lenType": 16,
    "lenVar": 40
   },
   "kernels_config": {
    "python": {
     "delete_cmd_postfix": "",
     "delete_cmd_prefix": "del ",
     "library": "var_list.py",
     "varRefreshCmd": "print(var_dic_list())"
    },
    "r": {
     "delete_cmd_postfix": ") ",
     "delete_cmd_prefix": "rm(",
     "library": "var_list.r",
     "varRefreshCmd": "cat(var_dic_list()) "
    }
   },
   "oldHeight": 122.222222,
   "position": {
    "height": "40px",
    "left": "1362.89px",
    "right": "20px",
    "top": "120px",
    "width": "251px"
   },
   "types_to_exclude": [
    "module",
    "function",
    "builtin_function_or_method",
    "instance",
    "_Feature"
   ],
   "varInspector_section_display": "none",
   "window_display": true
  }
 },
 "nbformat": 4,
 "nbformat_minor": 2
}

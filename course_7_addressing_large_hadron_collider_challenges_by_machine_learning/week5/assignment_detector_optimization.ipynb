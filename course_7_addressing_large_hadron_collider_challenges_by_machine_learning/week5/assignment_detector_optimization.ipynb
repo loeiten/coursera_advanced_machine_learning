{
 "cells": [
  {
   "cell_type": "markdown",
   "metadata": {},
   "source": [
    "# About\n",
    "\n",
    "In this programming assignment you will optimize a simple tracking system using Bayesian optimization with Gaussian processes. The same method can be used for more complex systems optimization. For an example, the ATLAS tracking system:\n",
    "\n",
    "<img src=\"pic/tracks.png\" width=\"700\" />\n",
    "https://twiki.cern.ch/twiki/bin/view/AtlasPublic/EventDisplayRun2Collisions"
   ]
  },
  {
   "cell_type": "code",
   "execution_count": null,
   "metadata": {},
   "outputs": [],
   "source": [
    "%matplotlib inline\n",
    "import matplotlib.pyplot as plt\n",
    "import numpy as np\n",
    "import pandas as pd\n",
    "import utils"
   ]
  },
  {
   "cell_type": "markdown",
   "metadata": {},
   "source": [
    "# Geometry generation\n",
    "\n",
    "Our simple tracking system consists of 4 layers of straw tubes, which detects particles fly through them. Each layer has 200 tubes. The system is parametrized by six adjustable parameters: $y_{1}$, $y_{2}$, $y_{3}$, $z_{1}$, $z_{2}$, $z_{3}$. These parameters describe shifts between the layers as it is show in the figure: \n",
    "\n",
    "<img src=\"pic/system.png\" alt=\"Drawing\" style=\"width: 700px;\">\n",
    "\n",
    "In this notebook we suppose that the radius $R$ of tubes is 1 cm and the distance between tubes in one layer (pitch) is 4 cm. We take these values as constants and will not change them.  Also z-value must be more than 2, otherwise these tubes will intersect. It's wrong."
   ]
  },
  {
   "cell_type": "markdown",
   "metadata": {},
   "source": [
    "For an example, lets select values for the layers shifts."
   ]
  },
  {
   "cell_type": "code",
   "execution_count": null,
   "metadata": {},
   "outputs": [],
   "source": [
    "# CONSTANT PARAMETERS\n",
    "R = 1. # cm\n",
    "pitch = 4.0 #cm \n",
    "\n",
    "# ADJUSTABLE PARAMETERS\n",
    "y1 = 0.0\n",
    "y2 = 0.0\n",
    "y3 = 0.0\n",
    "z1 = 2.0\n",
    "z2 = 4.0\n",
    "z3 = 6.0"
   ]
  },
  {
   "cell_type": "markdown",
   "metadata": {},
   "source": [
    "Using these parameter values we generate $Z$ and $Y$ coordinates of tubes in the tracking system."
   ]
  },
  {
   "cell_type": "code",
   "execution_count": null,
   "metadata": {},
   "outputs": [],
   "source": [
    "tr = utils.Tracker(R, pitch, y1, y2, y3, z1, z2, z3)\n",
    "Z, Y = tr.create_geometry()"
   ]
  },
  {
   "cell_type": "markdown",
   "metadata": {},
   "source": [
    "Now display several tubes of the generated geometry."
   ]
  },
  {
   "cell_type": "code",
   "execution_count": null,
   "metadata": {},
   "outputs": [],
   "source": [
    "utils.geometry_display(Z, Y, R, y_min=-10, y_max=10)"
   ]
  },
  {
   "cell_type": "markdown",
   "metadata": {},
   "source": [
    "# Tracks generation\n",
    "\n",
    "Lets generate several tracks of particles fly in the tracking system. We consider straight tracks with equation: \n",
    "\n",
    "$$\n",
    "y = kz + b\n",
    "$$\n",
    "\n",
    "where $z, y$ are coordinates of the track, $k$ is slope of the track and $b$ is the y intercept.\n",
    "\n",
    "Track parameters are generated from the following distributions:\n",
    "\n",
    "$$\n",
    "b \\in U(b_{min}, b_{max})\\\\\n",
    "k = tan(\\alpha), \\alpha \\in N(\\mu_{\\alpha}, \\sigma_{\\alpha})\n",
    "$$\n",
    "\n",
    "where $U$ is uniform distribution and $N$ is normal distribution."
   ]
  },
  {
   "cell_type": "code",
   "execution_count": null,
   "metadata": {},
   "outputs": [],
   "source": [
    "N_tracks = 1000\n",
    "t = utils.Tracks(b_min=-100, b_max=100, alpha_mean=0, alpha_std=0.2)\n",
    "tracks = t.generate(N_tracks)"
   ]
  },
  {
   "cell_type": "markdown",
   "metadata": {},
   "source": [
    "Display the tubes geometry with the generated tracks."
   ]
  },
  {
   "cell_type": "code",
   "execution_count": null,
   "metadata": {},
   "outputs": [],
   "source": [
    "utils.geometry_display(Z, Y, R, y_min=-10, y_max=10)\n",
    "utils.tracks_display(tracks, Z)"
   ]
  },
  {
   "cell_type": "markdown",
   "metadata": {},
   "source": [
    "# Target metric\n",
    "\n",
    "For a given geaometry of the tracking system we will calculate the ratio of tracks with at least 2 hits to the total number of tracks:\n",
    "\n",
    "$$Score = \\frac{N\\_tracks_{n\\_hits \\ge 2}}{N\\_tracks}$$\n",
    "\n",
    "The higher score, the better."
   ]
  },
  {
   "cell_type": "code",
   "execution_count": null,
   "metadata": {},
   "outputs": [],
   "source": [
    "score = utils.get_score(Z, Y, tracks, R)\n",
    "print(score)"
   ]
  },
  {
   "cell_type": "markdown",
   "metadata": {
    "collapsed": true
   },
   "source": [
    "# Optimization\n",
    "\n",
    "In this programming assignment you need to find parameters of geometry of the tracking system that provides the highest **score** value. However, we propose to solve a minimization problem. So you need to minimize **1-score** value. This is an objective function of the optimization\n",
    "\n",
    "\n",
    "Lets define ranges of the adjustable parameters of the system."
   ]
  },
  {
   "cell_type": "code",
   "execution_count": null,
   "metadata": {},
   "outputs": [],
   "source": [
    "# You can change these values\n",
    "y1_min, y1_max = [0, 4]\n",
    "y2_min, y2_max = [0, 4]\n",
    "y3_min, y3_max = [0, 4]\n",
    "z1_min, z1_max = [2, 10]\n",
    "z2_min, z2_max = [2, 10]\n",
    "z3_min, z3_max = [2, 10]"
   ]
  },
  {
   "cell_type": "markdown",
   "metadata": {},
   "source": [
    "And generate tracks used during the optimization."
   ]
  },
  {
   "cell_type": "code",
   "execution_count": null,
   "metadata": {},
   "outputs": [],
   "source": [
    "t = utils.Tracks(-100, 100, 0, 0.2)\n",
    "tracks = t.generate(N_tracks)"
   ]
  },
  {
   "cell_type": "markdown",
   "metadata": {},
   "source": [
    "Define the objective function of the optimization"
   ]
  },
  {
   "cell_type": "code",
   "execution_count": null,
   "metadata": {},
   "outputs": [],
   "source": [
    "def objective(x):\n",
    "    \n",
    "    R, pitch, y1, y2, y3, z1, z2, z3 = x\n",
    "    Z, Y = utils.Tracker(R, pitch, y1, y2, y3, z1, z2, z3).create_geometry()\n",
    "    val = utils.get_score(Z, Y, tracks, R)\n",
    "    \n",
    "    return 1. - val # the smaller, the better."
   ]
  },
  {
   "cell_type": "markdown",
   "metadata": {},
   "source": [
    "## Grid search\n",
    "\n",
    "Firstly, lets try to solve the optimization problem using grid search.\n",
    "\n",
    "TASK: find optimal parameters of the tracking system using grid search."
   ]
  },
  {
   "cell_type": "code",
   "execution_count": null,
   "metadata": {},
   "outputs": [],
   "source": [
    "%%time\n",
    "\n",
    "# Number of unique values for each of the adjustable parameters.\n",
    "n_points = 2\n",
    "\n",
    "# Define grid of the parameters\n",
    "y1_grid = np.linspace(y1_min, y2_max, n_points)\n",
    "y2_grid = np.linspace(y2_min, y2_max, n_points)\n",
    "y3_grid = np.linspace(y3_min, y3_max, n_points)\n",
    "z1_grid = np.linspace(z1_min, z1_max, n_points)\n",
    "z2_grid = np.linspace(z2_min, z2_max, n_points)\n",
    "z3_grid = np.linspace(z3_min, z3_max, n_points)\n",
    "\n",
    "# Define list to store the optimization results\n",
    "min_objective_values = []\n",
    "params_for_min_objective_values = []\n",
    "\n",
    "is_first = True\n",
    "\n",
    "# Loop on the grid\n",
    "for y1 in y1_grid:\n",
    "    for y2 in y2_grid:\n",
    "        for y3 in y3_grid:\n",
    "            for z1 in z1_grid:\n",
    "                for z2 in z2_grid:\n",
    "                    for z3 in z3_grid:\n",
    "\n",
    "                        # Calculate the objective function value for a grid node\n",
    "                        x = [R, pitch, y1, y2, y3, z1, z2, z3]\n",
    "                        val = objective(x)\n",
    "\n",
    "                        if is_first:\n",
    "                            min_objective_values.append(val)\n",
    "                            params_for_min_objective_values.append(tuple(x))\n",
    "                            is_first = False\n",
    "                        elif val < min_objective_values[-1]:\n",
    "                            min_objective_values.append(val)\n",
    "                            params_for_min_objective_values.append(tuple(x))\n",
    "                        else:\n",
    "                            min_objective_values.append(min_objective_values[-1])\n",
    "                            params_for_min_objective_values.append(params_for_min_objective_values[-1])"
   ]
  },
  {
   "cell_type": "markdown",
   "metadata": {},
   "source": [
    "Plot the optimization curve"
   ]
  },
  {
   "cell_type": "code",
   "execution_count": null,
   "metadata": {},
   "outputs": [],
   "source": [
    "print(\"Objective optimum = \", min_objective_values[-1])\n",
    "utils.plot_objective(min_objective_values)"
   ]
  },
  {
   "cell_type": "code",
   "execution_count": null,
   "metadata": {},
   "outputs": [],
   "source": [
    "(R, pitch, y1, y2, y3, z1, z2, z3) = params_for_min_objective_values[-1]\n",
    "print(\"Optimal parameters: \")\n",
    "print(\"y1 = \", y1)\n",
    "print(\"y2 = \", y2)\n",
    "print(\"y3 = \", y3)\n",
    "print(\"z1 = \", z1)\n",
    "print(\"z2 = \", z2)\n",
    "print(\"z3 = \", z3)"
   ]
  },
  {
   "cell_type": "markdown",
   "metadata": {},
   "source": [
    "Display the optimal tracking system geometry."
   ]
  },
  {
   "cell_type": "code",
   "execution_count": null,
   "metadata": {},
   "outputs": [],
   "source": [
    "Z, Y = utils.Tracker(R, pitch, y1, y2, y3, z1, z2, z3).create_geometry()\n",
    "utils.geometry_display(Z, Y, R, y_min=-10, y_max=10)"
   ]
  },
  {
   "cell_type": "markdown",
   "metadata": {},
   "source": [
    "## Random search\n",
    "\n",
    "Now, lets modify grid search. For this we will generate random points in the parameter space instead of the grid.\n",
    "\n",
    "TASK: find optimal parameters of the tracking system using random search."
   ]
  },
  {
   "cell_type": "code",
   "execution_count": null,
   "metadata": {},
   "outputs": [],
   "source": [
    "%%time\n",
    "\n",
    "# Number of random point to generate.\n",
    "n_points = 100\n",
    "\n",
    "# Define random values on the tracking system parameters\n",
    "y1_grid = np.random.RandomState(12).uniform(y1_min, y1_max, n_points)\n",
    "y2_grid = np.random.RandomState(13).uniform(y2_min, y2_max, n_points)\n",
    "y3_grid = np.random.RandomState(14).uniform(y3_min, y3_max, n_points)\n",
    "z1_grid = np.random.RandomState(15).uniform(z1_min, z1_max, n_points)\n",
    "z2_grid = np.random.RandomState(16).uniform(z2_min, z2_max, n_points)\n",
    "z3_grid = np.random.RandomState(17).uniform(z3_min, z3_max, n_points)\n",
    "\n",
    "# Define list to store the optimization results\n",
    "min_objective_values = []\n",
    "params_for_min_objective_values = []\n",
    "\n",
    "for i in range(n_points):\n",
    "    \n",
    "    y1 = y1_grid[i]\n",
    "    y2 = y2_grid[i]\n",
    "    y3 = y3_grid[i]\n",
    "    z1 = z1_grid[i]\n",
    "    z2 = z2_grid[i]\n",
    "    z3 = z3_grid[i]\n",
    "    \n",
    "    # Calculate the objective function value for a grid node\n",
    "    x = [R, pitch, y1, y2, y3, z1, z2, z3]\n",
    "    val = objective(x)\n",
    "    \n",
    "    if i==0:\n",
    "        min_objective_values.append(val)\n",
    "        params_for_min_objective_values.append(tuple(x))\n",
    "    elif val < min_objective_values[-1]:\n",
    "        min_objective_values.append(val)\n",
    "        params_for_min_objective_values.append(tuple(x))\n",
    "    else:\n",
    "        min_objective_values.append(min_objective_values[-1])\n",
    "        params_for_min_objective_values.append(params_for_min_objective_values[-1])"
   ]
  },
  {
   "cell_type": "markdown",
   "metadata": {},
   "source": [
    "Plot the optimization curve"
   ]
  },
  {
   "cell_type": "code",
   "execution_count": null,
   "metadata": {},
   "outputs": [],
   "source": [
    "print(\"Objective optimum = \", min_objective_values[-1])\n",
    "utils.plot_objective(min_objective_values)"
   ]
  },
  {
   "cell_type": "code",
   "execution_count": null,
   "metadata": {},
   "outputs": [],
   "source": [
    "(R, pitch, y1, y2, y3, z1, z2, z3) = params_for_min_objective_values[-1]\n",
    "print(\"Optimal parameters: \")\n",
    "print(\"y1 = \", y1)\n",
    "print(\"y2 = \", y2)\n",
    "print(\"y3 = \", y3)\n",
    "print(\"z1 = \", z1)\n",
    "print(\"z2 = \", z2)\n",
    "print(\"z3 = \", z3)"
   ]
  },
  {
   "cell_type": "markdown",
   "metadata": {},
   "source": [
    "Display the optimal tracking system geometry."
   ]
  },
  {
   "cell_type": "code",
   "execution_count": null,
   "metadata": {},
   "outputs": [],
   "source": [
    "Z, Y = utils.Tracker(R, pitch, y1, y2, y3, z1, z2, z3).create_geometry()\n",
    "utils.geometry_display(Z, Y, R, y_min=-10, y_max=10)"
   ]
  },
  {
   "cell_type": "markdown",
   "metadata": {},
   "source": [
    "## Bayesian optimization with Gaussian processes\n",
    "\n",
    "At this step we will use Bayesian optimization implemented using [scikit-optimize](http://scikit-optimize.github.io/) library to find optimal tracking system geometry. During the optimization Lower Confidence Bound (LCB) acquisition function is used:\n",
    "\n",
    "$$\n",
    "LCB(x) = \\mu(x) - \\kappa(x) \n",
    "$$\n",
    "\n",
    "where $\\kappa$ is adjustable parameter that defines the exploration-exploitation trade-off of the optimization.\n",
    "\n",
    "TASK: find optimal parameters of the tracking system."
   ]
  },
  {
   "cell_type": "code",
   "execution_count": null,
   "metadata": {},
   "outputs": [],
   "source": [
    "from skopt import gp_minimize\n",
    "\n",
    "# You can change these values\n",
    "y1_min, y1_max = [-5, 5]\n",
    "y2_min, y2_max = [-5, 5]\n",
    "y3_min, y3_max = [-5, 5]\n",
    "z1_min, z1_max = [2, 15]\n",
    "z2_min, z2_max = [2, 15]\n",
    "z3_min, z3_max = [2, 15]\n",
    "\n",
    "# NOTE: High kappa corresponds to high exploration\n",
    "kappa= 30\n",
    "dimentions = [(R, R + 10**-6), (pitch, pitch + 10**-6), \n",
    "              (y1_min, y1_max), (y2_min, y2_max), (y3_min, y3_max),\n",
    "              (z1_min, z1_max), (z2_min, z2_max), (z3_min, z3_max)]\n",
    "\n",
    "res = gp_minimize(func=objective,                   # the function to minimize\n",
    "                  dimensions=dimentions,            # the bounds on each dimension of x\n",
    "                  acq_func=\"LCB\",                   # the acquisition function\n",
    "                  n_calls=500,                      # the number of evaluations of f \n",
    "                  n_random_starts=50,               # the number of random initialization points\n",
    "                  noise=0.01**2,                    # the noise level (optional)\n",
    "                  random_state=123,                 # the random seed\n",
    "                  kappa=kappa,                      # the adjustable parameter of LCB\n",
    "                  verbose=True,\n",
    "                  n_jobs=-1)"
   ]
  },
  {
   "cell_type": "markdown",
   "metadata": {},
   "source": [
    "Plot the optimization curve"
   ]
  },
  {
   "cell_type": "code",
   "execution_count": null,
   "metadata": {},
   "outputs": [],
   "source": [
    "from skopt.plots import plot_convergence\n",
    "print(\"Objective optimum = \", res.fun)\n",
    "plot_convergence(res)"
   ]
  },
  {
   "cell_type": "markdown",
   "metadata": {},
   "source": [
    "Display the optimal tracking system geometry."
   ]
  },
  {
   "cell_type": "code",
   "execution_count": null,
   "metadata": {},
   "outputs": [],
   "source": [
    "# get found optimal geometry\n",
    "[R, pitch, y1, y2, y3, z1, z2, z3] = res.x\n",
    "\n",
    "print(\"Optimal parameters: \")\n",
    "print(\"y1 = \", y1)\n",
    "print(\"y2 = \", y2)\n",
    "print(\"y3 = \", y3)\n",
    "print(\"z1 = \", z1)\n",
    "print(\"z2 = \", z2)\n",
    "print(\"z3 = \", z3)\n",
    "\n",
    "# plot the geometry\n",
    "Z, Y = utils.Tracker(R, pitch, y1, y2, y3, z1, z2, z3).create_geometry()\n",
    "utils.geometry_display(Z, Y, R, y_min=-10, y_max=10)"
   ]
  },
  {
   "cell_type": "markdown",
   "metadata": {
    "collapsed": true
   },
   "source": [
    "# Submission\n",
    "\n",
    "TASK: Using the optimization methods above try to find the best geometry of the tracking system. Then, create sumbmission file with the parameters of your geometry and submit it."
   ]
  },
  {
   "cell_type": "code",
   "execution_count": null,
   "metadata": {},
   "outputs": [],
   "source": [
    "best = [R, pitch, y1, y2, y3, z1, z2, z3]\n",
    "utils.create_solution(best, filename='submission_file.csv')"
   ]
  }
 ],
 "metadata": {
  "kernelspec": {
   "display_name": "Python 3",
   "language": "python",
   "name": "python3"
  },
  "language_info": {
   "codemirror_mode": {
    "name": "ipython",
    "version": 3
   },
   "file_extension": ".py",
   "mimetype": "text/x-python",
   "name": "python",
   "nbconvert_exporter": "python",
   "pygments_lexer": "ipython3",
   "version": "3.7.3"
  },
  "toc": {
   "base_numbering": 1,
   "nav_menu": {},
   "number_sections": true,
   "sideBar": true,
   "skip_h1_title": false,
   "title_cell": "Table of Contents",
   "title_sidebar": "Contents",
   "toc_cell": false,
   "toc_position": {},
   "toc_section_display": true,
   "toc_window_display": false
  }
 },
 "nbformat": 4,
 "nbformat_minor": 2
}
